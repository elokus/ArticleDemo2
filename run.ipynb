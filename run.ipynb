{
 "cells": [
  {
   "metadata": {
    "ExecuteTime": {
     "end_time": "2024-04-21T06:31:36.313912Z",
     "start_time": "2024-04-21T06:31:36.306910Z"
    }
   },
   "cell_type": "code",
   "source": [
    "from dotenv import load_dotenv\n",
    "load_dotenv()"
   ],
   "id": "284dbe7e7e714536",
   "outputs": [
    {
     "data": {
      "text/plain": [
       "True"
      ]
     },
     "execution_count": 1,
     "metadata": {},
     "output_type": "execute_result"
    }
   ],
   "execution_count": 1
  },
  {
   "cell_type": "code",
   "id": "initial_id",
   "metadata": {
    "collapsed": true,
    "ExecuteTime": {
     "end_time": "2024-04-21T06:31:37.343232Z",
     "start_time": "2024-04-21T06:31:36.870782Z"
    }
   },
   "source": [
    "from database.models import Expense, Revenue, Customer\n",
    "from agents.task import TaskAgent\n",
    "from utils import generate_query_context\n",
    "\n",
    "\n",
    "\n",
    "\n",
    "print(generate_query_context(Expense, Revenue, Customer))"
   ],
   "outputs": [
    {
     "name": "stdout",
     "output_type": "stream",
     "text": [
      "Today is Sunday 2024-04-21\n",
      "You can access the following tables in database:\n",
      " - expense: id = <int>, description = <str>, net_amount = <float>, gross_amount = <float>, tax_rate = <float>, date = <datetime>\n",
      " - revenue: id = <int>, description = <str>, net_amount = <float>, gross_amount = <float>, tax_rate = <float>, date = <datetime>\n",
      " - customer: id = <int>, company_name = <str>, first_name = <str>, last_name = <str>, phone = <str>, address = <str>, city = <str>, zip = <str>, country = <str>\n",
      "\n"
     ]
    }
   ],
   "execution_count": 2
  },
  {
   "metadata": {
    "ExecuteTime": {
     "end_time": "2024-04-21T06:31:38.387001Z",
     "start_time": "2024-04-21T06:31:38.360648Z"
    }
   },
   "cell_type": "code",
   "source": [
    "from database.models import Expense, Revenue, Customer\n",
    "from agents.task import TaskAgent\n",
    "from utils import generate_query_context\n",
    "\n",
    "from tools.base import Tool\n",
    "from tools.query import query_data_tool\n",
    "from tools.add import add_entry_to_table\n",
    "\n",
    "query_task_agent = TaskAgent(\n",
    "    name=\"query_agent\",\n",
    "    description=\"An agent that can perform queries on multiple data sources\",\n",
    "    create_user_context=lambda: generate_query_context(Expense, Revenue, Customer),\n",
    "    tools=[query_data_tool]\n",
    ")\n",
    "\n",
    "add_expense_agent = TaskAgent(\n",
    "    name=\"add_expense_agent\",\n",
    "    description=\"An agent that can add an expense to the database\",\n",
    "    create_user_context=lambda: generate_query_context(Expense) + \"\\nRemarks: The tax rate is 0.19. The user provide the net amount you need to calculate the gross amount.\",\n",
    "    tools=[\n",
    "        Tool(\n",
    "            name=\"add_expense\",\n",
    "            description=\"Add an expense to the database\",\n",
    "            function=add_entry_to_table(Expense),\n",
    "            model=Expense\n",
    "        )\n",
    "    ]\n",
    ")\n",
    "\n",
    "add_revenue_agent = TaskAgent(\n",
    "    name=\"add_revenue_agent\",\n",
    "    description=\"An agent that can add a revenue entry to the database\",\n",
    "    create_user_context=lambda: generate_query_context(Revenue) + \"\\nRemarks: The tax rate is 0.19. The user provide the gross_amount you should use the tax rate to calculate the net_amount.\",\n",
    "    tools=[\n",
    "        Tool(\n",
    "            name=\"add_revenue\",\n",
    "            description=\"Add a revenue entry to the database\",\n",
    "            function=add_entry_to_table(Revenue),\n",
    "            model=Revenue\n",
    "        )\n",
    "    ]\n",
    ")\n",
    "\n",
    "add_customer_agent = TaskAgent(\n",
    "    name=\"add_customer_agent\",\n",
    "    description=\"An agent that can add a customer to the database\",\n",
    "    create_user_context=lambda: generate_query_context(Customer),\n",
    "    tools=[\n",
    "        Tool(\n",
    "            name=\"add_customer\",\n",
    "            description=\"Add a customer to the database\",\n",
    "            function=add_entry_to_table(Customer),\n",
    "            model=Customer\n",
    "        )\n",
    "    ]\n",
    ")"
   ],
   "id": "1715075f857bb4ca",
   "outputs": [],
   "execution_count": 3
  },
  {
   "metadata": {
    "ExecuteTime": {
     "end_time": "2024-04-21T06:31:39.118045Z",
     "start_time": "2024-04-21T06:31:39.103055Z"
    }
   },
   "cell_type": "code",
   "source": [
    "from agents.routing import RoutingAgent\n",
    "\n",
    "routing_agent = RoutingAgent(\n",
    "    tools=[\n",
    "        query_task_agent,\n",
    "        add_expense_agent,\n",
    "        add_revenue_agent,\n",
    "        add_customer_agent\n",
    "    ]\n",
    ")"
   ],
   "id": "510da4db1de0d72a",
   "outputs": [],
   "execution_count": 4
  },
  {
   "metadata": {
    "ExecuteTime": {
     "end_time": "2024-04-21T06:31:44.998080Z",
     "start_time": "2024-04-21T06:31:39.738377Z"
    }
   },
   "cell_type": "code",
   "source": "routing_agent.run(\"I have spent 5 € on a office stuff. Last Thursday\")",
   "id": "37036fbd24d3232a",
   "outputs": [
    {
     "name": "stdout",
     "output_type": "stream",
     "text": [
      "\u001B[32mSTART: Starting Agent with Input:\n",
      "I have spent 5 € on a office stuff. Last Thursday\u001B[0m\n",
      "\u001B[34mRESPONSE: None\u001B[0m\n",
      "\u001B[32mTool Name: add_expense_agent\u001B[0m\n",
      "\u001B[32mTool Args: {}\u001B[0m\n",
      "\u001B[32mSTART: Starting Agent with Input:\n",
      "Today is Sunday 2024-04-21\n",
      "You can access the following tables in database:\n",
      " - expense: id = <int>, description = <str>, net_amount = <float>, gross_amount = <float>, tax_rate = <float>, date = <datetime>\n",
      "\n",
      "Remarks: The tax rate is 0.19. The user provide the net amount you need to calculate the gross amount.\n",
      "---\n",
      "\n",
      "User Message: I have spent 5 € on a office stuff. Last Thursday\u001B[0m\n",
      "\u001B[35mTool Call: Name: add_expense\n",
      "Args: {'description': 'office stuff', 'net_amount': 5, 'tax_rate': 0.19, 'date': '2024-04-18'}\n",
      "Message: None\u001B[0m\n",
      "\u001B[31merror: Missing values: gross_amount\u001B[0m\n",
      "\u001B[35mTool Call: Name: add_expense\n",
      "Args: {'description': 'office stuff', 'net_amount': 5, 'tax_rate': 0.19, 'date': '2024-04-18', 'gross_amount': 5.95}\n",
      "Message: None\u001B[0m\n",
      "\u001B[33mtool_result: Successfully added net_amount=5.0 id=2 gross_amount=5.95 description='office stuff' date=datetime.datetime(2024, 4, 18, 0, 0) tax_rate=0.19 to the table\u001B[0m\n",
      "\u001B[33mError: No tool calls were returned.\n",
      "Message: I have successfully added the expense for office stuff with a net amount of 5€, calculated the gross amount, and recorded it in the database.\u001B[0m\n",
      "\u001B[35mTool Call: Name: report_tool\n",
      "Args: {'report': 'Expense for office stuff with a net amount of 5€ has been successfully added. Gross amount calculated as 5.95€.'}\n",
      "Message: None\u001B[0m\n",
      "\u001B[32mFinal Result: Expense for office stuff with a net amount of 5€ has been successfully added. Gross amount calculated as 5.95€.\u001B[0m\n"
     ]
    },
    {
     "data": {
      "text/plain": [
       "'Expense for office stuff with a net amount of 5€ has been successfully added. Gross amount calculated as 5.95€.'"
      ]
     },
     "execution_count": 5,
     "metadata": {},
     "output_type": "execute_result"
    }
   ],
   "execution_count": 5
  },
  {
   "metadata": {
    "ExecuteTime": {
     "end_time": "2024-04-21T06:34:38.064977Z",
     "start_time": "2024-04-21T06:34:33.273094Z"
    }
   },
   "cell_type": "code",
   "source": "routing_agent.run(\"Two weeks ago on Saturday we had a revenue of 1000 € in the shop\")",
   "id": "150d7522745e856f",
   "outputs": [
    {
     "name": "stdout",
     "output_type": "stream",
     "text": [
      "\u001B[32mSTART: Starting Agent with Input:\n",
      "Two weeks ago on Saturday we had a revenue of 1000 € in the shop\u001B[0m\n",
      "\u001B[34mRESPONSE: None\u001B[0m\n",
      "\u001B[32mTool Name: add_revenue_agent\u001B[0m\n",
      "\u001B[32mTool Args: {}\u001B[0m\n",
      "\u001B[32mSTART: Starting Agent with Input:\n",
      "Today is Sunday 2024-04-21\n",
      "You can access the following tables in database:\n",
      " - revenue: id = <int>, description = <str>, net_amount = <float>, gross_amount = <float>, tax_rate = <float>, date = <datetime>\n",
      "\n",
      "Remarks: The tax rate is 0.19. The user provide the gross_amount you should use the tax rate to calculate the net_amount.\n",
      "---\n",
      "\n",
      "User Message: Two weeks ago on Saturday we had a revenue of 1000 € in the shop\u001B[0m\n",
      "\u001B[35mTool Call: Name: add_revenue\n",
      "Args: {'description': 'Revenue from the shop', 'gross_amount': 1000, 'tax_rate': 0.19, 'date': '2024-04-06'}\n",
      "Message: None\u001B[0m\n",
      "\u001B[31merror: Missing values: net_amount\u001B[0m\n",
      "\u001B[35mTool Call: Name: add_revenue\n",
      "Args: {'description': 'Revenue from the shop', 'gross_amount': 1000, 'tax_rate': 0.19, 'date': '2024-04-06', 'net_amount': 840.34}\n",
      "Message: None\u001B[0m\n",
      "\u001B[33mtool_result: Successfully added net_amount=840.34 gross_amount=1000.0 tax_rate=0.19 description='Revenue from the shop' id=1 date=datetime.datetime(2024, 4, 6, 0, 0) to the table\u001B[0m\n",
      "\u001B[33mError: No tool calls were returned.\n",
      "Message: The revenue entry for the shop on April 6, 2024, with a gross amount of 1000€ has been successfully added to the database. The calculated net amount after applying the tax rate is 840.34€.\u001B[0m\n",
      "\u001B[35mTool Call: Name: report_tool\n",
      "Args: {'report': 'completed'}\n",
      "Message: None\u001B[0m\n",
      "\u001B[32mFinal Result: completed\u001B[0m\n"
     ]
    },
    {
     "data": {
      "text/plain": [
       "'completed'"
      ]
     },
     "execution_count": 6,
     "metadata": {},
     "output_type": "execute_result"
    }
   ],
   "execution_count": 6
  },
  {
   "metadata": {
    "ExecuteTime": {
     "end_time": "2024-04-21T06:35:54.881560Z",
     "start_time": "2024-04-21T06:35:46.728971Z"
    }
   },
   "cell_type": "code",
   "source": "routing_agent.run(\"How much revenue did we made this month?\")",
   "id": "9fa051507dedc87c",
   "outputs": [
    {
     "name": "stdout",
     "output_type": "stream",
     "text": [
      "\u001B[32mSTART: Starting Agent with Input:\n",
      "How much revenue did we made last month?\u001B[0m\n",
      "\u001B[34mRESPONSE: None\u001B[0m\n",
      "\u001B[32mTool Name: query_agent\u001B[0m\n",
      "\u001B[32mTool Args: {'query': \"SELECT SUM(amount) FROM revenue WHERE DATE >= '2022-03-01' AND DATE < '2022-04-01'\"}\u001B[0m\n",
      "\u001B[32mSTART: Starting Agent with Input:\n",
      "Today is Sunday 2024-04-21\n",
      "You can access the following tables in database:\n",
      " - expense: id = <int>, description = <str>, net_amount = <float>, gross_amount = <float>, tax_rate = <float>, date = <datetime>\n",
      " - revenue: id = <int>, description = <str>, net_amount = <float>, gross_amount = <float>, tax_rate = <float>, date = <datetime>\n",
      " - customer: id = <int>, company_name = <str>, first_name = <str>, last_name = <str>, phone = <str>, address = <str>, city = <str>, zip = <str>, country = <str>\n",
      "\n",
      "---\n",
      "\n",
      "User Message: How much revenue did we made last month?\u001B[0m\n",
      "\u001B[35mTool Call: Name: query_data_tool\n",
      "Args: {'table_name': 'revenue', 'select_columns': ['net_amount'], 'where': [{'column': 'date', 'operator': 'gte', 'value': '2024-03-01'}, {'column': 'date', 'operator': 'lt', 'value': '2024-04-01'}]}\n",
      "Message: To determine the total revenue generated last month, we need to query the `revenue` table for entries within the previous month and calculate the sum of the net_amount.\n",
      "\n",
      "I will first identify the start and end dates of the previous month based on the current date and then query the `revenue` table for entries within that timeframe to calculate the total revenue. Let's proceed with this approach using appropriate tools.\u001B[0m\n",
      "\u001B[33mtool_result: content='Query results: []' success=True\u001B[0m\n",
      "\u001B[33mError: No tool calls were returned.\n",
      "Message: The query results for revenue entries within the previous month returned an empty set, indicating that there were no revenue records during that period. This could be due to data availability or no revenue generated in the previous month.\n",
      "\n",
      "If you have any additional questions or require further analysis, feel free to ask.\u001B[0m\n",
      "\u001B[33mError: No tool calls were returned.\n",
      "Message: I have also noted that there are no revenue entries recorded for the previous month based on the data available. If you have any more questions or need assistance with other inquiries, please feel free to let me know.\u001B[0m\n",
      "\u001B[35mTool Call: Name: report_tool\n",
      "Args: {'report': 'No revenue entries were found for the previous month.'}\n",
      "Message: None\u001B[0m\n",
      "\u001B[32mFinal Result: No revenue entries were found for the previous month.\u001B[0m\n"
     ]
    },
    {
     "data": {
      "text/plain": [
       "'No revenue entries were found for the previous month.'"
      ]
     },
     "execution_count": 7,
     "metadata": {},
     "output_type": "execute_result"
    }
   ],
   "execution_count": 7
  },
  {
   "metadata": {
    "ExecuteTime": {
     "end_time": "2024-04-21T06:36:20.977722Z",
     "start_time": "2024-04-21T06:36:17.308984Z"
    }
   },
   "cell_type": "code",
   "source": "routing_agent.run(\"How much revenue did we made this month?\")",
   "id": "744375384b15b6f9",
   "outputs": [
    {
     "name": "stdout",
     "output_type": "stream",
     "text": [
      "\u001B[32mSTART: Starting Agent with Input:\n",
      "How much revenue did we made this month?\u001B[0m\n",
      "\u001B[34mRESPONSE: None\u001B[0m\n",
      "\u001B[32mTool Name: query_agent\u001B[0m\n",
      "\u001B[32mTool Args: {}\u001B[0m\n",
      "\u001B[32mSTART: Starting Agent with Input:\n",
      "Today is Sunday 2024-04-21\n",
      "You can access the following tables in database:\n",
      " - expense: id = <int>, description = <str>, net_amount = <float>, gross_amount = <float>, tax_rate = <float>, date = <datetime>\n",
      " - revenue: id = <int>, description = <str>, net_amount = <float>, gross_amount = <float>, tax_rate = <float>, date = <datetime>\n",
      " - customer: id = <int>, company_name = <str>, first_name = <str>, last_name = <str>, phone = <str>, address = <str>, city = <str>, zip = <str>, country = <str>\n",
      "\n",
      "---\n",
      "\n",
      "User Message: How much revenue did we made this month?\u001B[0m\n",
      "\u001B[35mTool Call: Name: query_data_tool\n",
      "Args: {'table_name': 'revenue', 'select_columns': ['gross_amount'], 'where': [{'column': 'date', 'operator': 'gte', 'value': '2024-04-01'}, {'column': 'date', 'operator': 'lte', 'value': '2024-04-30'}]}\n",
      "Message: None\u001B[0m\n",
      "\u001B[33mtool_result: content=\"Query results: ['1000.0']\" success=True\u001B[0m\n",
      "\u001B[33mError: No tool calls were returned.\n",
      "Message: The revenue made this month is $1000.00.\u001B[0m\n",
      "\u001B[35mTool Call: Name: report_tool\n",
      "Args: {'report': 'The revenue made this month is $1000.00.'}\n",
      "Message: None\u001B[0m\n",
      "\u001B[32mFinal Result: The revenue made this month is $1000.00.\u001B[0m\n"
     ]
    },
    {
     "data": {
      "text/plain": [
       "'The revenue made this month is $1000.00.'"
      ]
     },
     "execution_count": 8,
     "metadata": {},
     "output_type": "execute_result"
    }
   ],
   "execution_count": 8
  },
  {
   "metadata": {},
   "cell_type": "code",
   "outputs": [],
   "execution_count": null,
   "source": "",
   "id": "c1a82c30460747f5"
  }
 ],
 "metadata": {
  "kernelspec": {
   "display_name": "Python 3",
   "language": "python",
   "name": "python3"
  },
  "language_info": {
   "codemirror_mode": {
    "name": "ipython",
    "version": 2
   },
   "file_extension": ".py",
   "mimetype": "text/x-python",
   "name": "python",
   "nbconvert_exporter": "python",
   "pygments_lexer": "ipython2",
   "version": "2.7.6"
  }
 },
 "nbformat": 4,
 "nbformat_minor": 5
}
